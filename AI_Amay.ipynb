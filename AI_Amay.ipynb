{
 "cells": [
  {
   "cell_type": "markdown",
   "id": "8dcab38e",
   "metadata": {
    "id": "8dcab38e"
   },
   "source": [
    "\n",
    "# DigitClassifier: Optical Recognition of Handwritten Digits\n",
    "**Done by:** Amay Waykool\n",
    "\n",
    " \n",
    "\n",
    "---\n",
    "\n",
    "This notebook demonstrates the development of a neural network model to recognize handwritten digits. It uses a training dataset to teach the network to identify digits (0-9) based on their features and applies the trained model to predict digits in a separate test dataset. The implementation employs Multi-Layer Perceptrons (MLP), focusing on forward propagation, activation functions, and iterative weight adjustments through training.\n"
   ]
  },
  {
   "cell_type": "markdown",
   "id": "a1246fee",
   "metadata": {
    "id": "a1246fee"
   },
   "source": [
    "\n",
    "## Setup  \n",
    "\n",
    "In this section, we configure the environment for model development. This involves loading the datasets, defining necessary mathematical and neural network functions, and initializing parameters for training the Multi-Layer Perceptron model.\n",
    "\n",
    "---\n"
   ]
  },
  {
   "cell_type": "markdown",
   "id": "06140cc4",
   "metadata": {
    "id": "06140cc4"
   },
   "source": [
    "\n",
    "### Explanation  \n",
    "This segment imports essential Python libraries:  \n",
    "- **NumPy**: Provides mathematical operations like matrix multiplication and random number generation.  \n",
    "- **Pandas**: Simplifies data handling, allowing for easy loading and preprocessing of datasets.  \n",
    "\n",
    "These libraries are critical for efficient numerical computation and data management.\n"
   ]
  },
  {
   "cell_type": "code",
   "execution_count": 13,
   "id": "4bb3e43f-9a06-4045-839a-c991faea2c8c",
   "metadata": {
    "id": "4bb3e43f-9a06-4045-839a-c991faea2c8c"
   },
   "outputs": [],
   "source": [
    "import pandas as pd\n",
    "import numpy as np"
   ]
  },
  {
   "cell_type": "markdown",
   "id": "b606aa39",
   "metadata": {
    "id": "b606aa39"
   },
   "source": [
    "\n",
    "### Explanation  \n",
    "\n",
    "This code loads the training and validation datasets:\n",
    "\n",
    "- **Dataset Paths**\n",
    "\n",
    "dataset1_path and dataset2_path specify the file paths for the training (cw2DataSet1.csv) and validation (cw2DataSet2.csv) datasets.\n",
    "\n",
    "- **Loading Data:**\n",
    "\n",
    "pd.read_csv() reads the CSV files into pandas DataFrames.\n",
    "header=None means the files lack headers, so column names are assigned as integers.\n",
    "\n",
    "- **Outputs:**\n",
    "\n",
    "train_data: DataFrame holding the training data.\n",
    "validation_data: DataFrame holding the validation data.\n",
    "This prepares the datasets for preprocessing and training the model.\n",
    "\n",
    "\n",
    "\n"
   ]
  },
  {
   "cell_type": "code",
   "execution_count": 14,
   "id": "38d51be1-f276-42d9-8db7-b4712ced75d0",
   "metadata": {
    "id": "38d51be1-f276-42d9-8db7-b4712ced75d0"
   },
   "outputs": [],
   "source": [
    "# Load the datasets\n",
    "dataset1_path = 'cw2DataSet1.csv'\n",
    "dataset2_path = 'cw2DataSet2.csv'\n",
    "\n",
    "train_data = pd.read_csv(dataset1_path, header=None)\n",
    "validation_data = pd.read_csv(dataset2_path, header=None)"
   ]
  },
  {
   "cell_type": "markdown",
   "id": "9e70a9c2",
   "metadata": {
    "id": "9e70a9c2"
   },
   "source": [
    "\n",
    "### Explanation  \n",
    "\n",
    "This function normalizes data to the range [0, 1]. It ensures all features have equal scale, which is important for machine learning models. The parameter X represents the input data, and epsilon is a small value added to avoid division by zero. The normalization is computed using the formula:\n",
    "\n",
    "Normalized Value\n",
    "\n",
    "$$\n",
    "\\text{Normalized Value} = \\frac{X - \\text{min}(X)}{\\text{max}(X) - \\text{min}(X) + \\epsilon}\n",
    "$$\n",
    "\n",
    "The function returns the normalized data where all values are between 0 and 1.\n",
    "\n",
    "\n",
    "\n",
    "\n"
   ]
  },
  {
   "cell_type": "code",
   "execution_count": 15,
   "id": "343a3cc8-8cc8-4397-9ba3-5f80abd678c8",
   "metadata": {
    "id": "343a3cc8-8cc8-4397-9ba3-5f80abd678c8"
   },
   "outputs": [],
   "source": [
    "# Normalize the data\n",
    "def normalize_data(X):\n",
    "    epsilon = 1e-8  # Small value to avoid division by zero\n",
    "    return (X - np.min(X, axis=0)) / (np.max(X, axis=0) - np.min(X, axis=0) + epsilon)"
   ]
  },
  {
   "cell_type": "markdown",
   "id": "fdf8da9c",
   "metadata": {
    "id": "fdf8da9c"
   },
   "source": [
    "\n",
    "### Explanation  \n",
    "\n",
    "This code prepares the data by splitting it into features and targets:\n",
    "\n",
    "- **Features (X_train, X_val):** Extracted as all columns except the last one, then normalized using normalize_data.\n",
    "- **Targets (y_train, y_val):** Extracted as the last column without normalization.\n",
    "This ensures the datasets are ready for model training and validation.\n"
   ]
  },
  {
   "cell_type": "code",
   "execution_count": 16,
   "id": "dafd2425-f96c-48b1-bcf9-fe9e947c75d5",
   "metadata": {
    "id": "dafd2425-f96c-48b1-bcf9-fe9e947c75d5"
   },
   "outputs": [],
   "source": [
    "# Prepare the data\n",
    "X_train = normalize_data(train_data.iloc[:, :-1].values)  # Features\n",
    "y_train = train_data.iloc[:, -1].values  # Targets\n",
    "\n",
    "X_val = normalize_data(validation_data.iloc[:, :-1].values)\n",
    "y_val = validation_data.iloc[:, -1].values\n"
   ]
  },
  {
   "cell_type": "markdown",
   "id": "a327b9b9",
   "metadata": {
    "id": "a327b9b9"
   },
   "source": [
    "\n",
    "### Explanation  \n",
    "\n",
    "This code defines essential preprocessing and activation functions:\n",
    "\n",
    "- **One-Hot Encoding:** Converts target labels (y_train and y_val) into a matrix format where each row represents a label as a one-hot vector.\n",
    "\n",
    "- **ReLU (relu) and Derivative:** ReLU sets negative values to 0 and keeps positives as-is. The derivative is used for backpropagation.\n",
    "\n",
    "- **Softmax:** Converts output scores into probabilities, ensuring they sum to 1, which is vital for multi-class classification.\n",
    "\n",
    "These functions prepare the data and enable non-linearity and probability handling in the model.\n"
   ]
  },
  {
   "cell_type": "code",
   "execution_count": 17,
   "id": "57704b3b-abd7-4fdf-896a-8d12e2e6aa81",
   "metadata": {
    "id": "57704b3b-abd7-4fdf-896a-8d12e2e6aa81"
   },
   "outputs": [],
   "source": [
    "# One-hot encode the targets\n",
    "def one_hot_encode(y, num_classes=10):\n",
    "    encoded = np.zeros((y.size, num_classes))\n",
    "    encoded[np.arange(y.size), y] = 1\n",
    "    return encoded\n",
    "\n",
    "y_train_encoded = one_hot_encode(y_train)\n",
    "y_val_encoded = one_hot_encode(y_val)\n",
    "\n",
    "# Define activation functions\n",
    "def relu(x):\n",
    "    return np.maximum(0, x)\n",
    "\n",
    "def relu_derivative(x):\n",
    "    return np.where(x > 0, 1, 0)\n",
    "\n",
    "def softmax(x):\n",
    "    exp_x = np.exp(x - np.max(x, axis=0, keepdims=True))  # For numerical stability\n",
    "    return exp_x / np.sum(exp_x, axis=0, keepdims=True)"
   ]
  },
  {
   "cell_type": "markdown",
   "id": "dd526b66",
   "metadata": {
    "id": "dd526b66"
   },
   "source": [
    "\n",
    "### Explanation  \n",
    "\n",
    "This code initializes the parameters for a Multi-Layer Perceptron (MLP):\n",
    "\n",
    "**Network Configuration:**\n",
    "\n",
    "- input_size: Number of input features (64 pixels for digit images).\n",
    "- hidden_size1 and hidden_size2: Number of neurons in the first and second hidden layers (400 and 300).\n",
    "- output_size: Number of output classes (10 digits: 0-9).\n",
    "\n",
    "**Learning and Regularization:**\n",
    "\n",
    "- learning_rate: Controls the size of weight updates during training.\n",
    "- dropout_rate: Regularization rate to reduce overfitting.\n",
    "\n",
    "**Weight Initialization:**\n",
    "\n",
    "- Weights are initialized using Xavier initialization **(np.sqrt(2 / number of inputs))** for balanced scaling.\n",
    "- weights_input_hidden1: Connects the input layer to the first hidden layer.\n",
    "- weights_hidden1_hidden2: Connects the first hidden layer to the second.\n",
    "- weights_hidden2_output: Connects the second hidden layer to the output layer.\n",
    "\n",
    "**Bias Initialization:**\n",
    "\n",
    "- bias_hidden1, bias_hidden2, and bias_output are initialized to zero.\n"
   ]
  },
  {
   "cell_type": "code",
   "execution_count": 18,
   "id": "6996ee68-25e5-42d4-a32e-cd04c68eb502",
   "metadata": {
    "id": "6996ee68-25e5-42d4-a32e-cd04c68eb502"
   },
   "outputs": [],
   "source": [
    "# Initialize the MLP parameters\n",
    "input_size = 64  # Number of features\n",
    "hidden_size1 = 400  # First hidden layer neurons\n",
    "hidden_size2 = 300  # Second hidden layer neurons\n",
    "output_size = 10  # Number of output neurons (for digit classification: 0-9)\n",
    "learning_rate = 0.012  # Learning rate\n",
    "dropout_rate = 0.2  # Dropout rate for regularization\n",
    "\n",
    "# Initialize weights\n",
    "np.random.seed(42)\n",
    "weights_input_hidden1 = np.random.randn(hidden_size1, input_size) * np.sqrt(2 / input_size)\n",
    "weights_hidden1_hidden2 = np.random.randn(hidden_size2, hidden_size1) * np.sqrt(2 / hidden_size1)\n",
    "weights_hidden2_output = np.random.randn(output_size, hidden_size2) * np.sqrt(2 / hidden_size2)\n",
    "\n",
    "# Initialize biases\n",
    "bias_hidden1 = np.zeros((hidden_size1, 1))\n",
    "bias_hidden2 = np.zeros((hidden_size2, 1))\n",
    "bias_output = np.zeros((output_size, 1))"
   ]
  },
  {
   "cell_type": "markdown",
   "id": "c7eb5122",
   "metadata": {
    "id": "c7eb5122"
   },
   "source": [
    "\n",
    "### Explanation  \n",
    "This function performs forward propagation in the neural network:\n",
    "\n",
    "**Hidden Layers:**\n",
    "\n",
    "- Compute inputs using weights and biases, then activate using ReLU.\n",
    "- Apply dropout if enabled to prevent overfitting.\n",
    "\n",
    "**Output Layer:** Compute inputs and apply Softmax to produce class probabilities.\n",
    "\n",
    "**Output:** Returns the activations of both hidden layers and the output layer.\n"
   ]
  },
  {
   "cell_type": "code",
   "execution_count": 19,
   "id": "6e2fb9ba-20f8-4560-a20b-313ba9d82c1a",
   "metadata": {
    "id": "6e2fb9ba-20f8-4560-a20b-313ba9d82c1a"
   },
   "outputs": [],
   "source": [
    "# Define the feedforward function with dropout\n",
    "def feedforward(X, dropout=False):\n",
    "    global weights_input_hidden1, weights_hidden1_hidden2, weights_hidden2_output\n",
    "    global bias_hidden1, bias_hidden2, bias_output\n",
    "\n",
    "    # Hidden layer 1\n",
    "    hidden_layer1_input = np.dot(weights_input_hidden1, X.T) + bias_hidden1\n",
    "    hidden_layer1_output = relu(hidden_layer1_input)\n",
    "    if dropout:\n",
    "        mask1 = np.random.rand(*hidden_layer1_output.shape) > dropout_rate\n",
    "        hidden_layer1_output *= mask1\n",
    "        hidden_layer1_output /= (1 - dropout_rate)\n",
    "\n",
    "    # Hidden layer 2\n",
    "    hidden_layer2_input = np.dot(weights_hidden1_hidden2, hidden_layer1_output) + bias_hidden2\n",
    "    hidden_layer2_output = relu(hidden_layer2_input)\n",
    "    if dropout:\n",
    "        mask2 = np.random.rand(*hidden_layer2_output.shape) > dropout_rate\n",
    "        hidden_layer2_output *= mask2\n",
    "        hidden_layer2_output /= (1 - dropout_rate)\n",
    "\n",
    "    # Output layer\n",
    "    output_layer_input = np.dot(weights_hidden2_output, hidden_layer2_output) + bias_output\n",
    "    output_layer_output = softmax(output_layer_input)\n",
    "\n",
    "    return hidden_layer1_output, hidden_layer2_output, output_layer_output"
   ]
  },
  {
   "cell_type": "markdown",
   "id": "82168480",
   "metadata": {
    "id": "82168480"
   },
   "source": [
    "\n",
    "### Explanation  \n",
    "\n",
    "This function implements backpropagation, which adjusts weights and biases to minimize prediction errors:\n",
    "\n",
    "**Output Layer Error:**\n",
    "\n",
    "- Calculates the difference (output_error) between the predicted output and the actual target.\n",
    "- output_delta: Represents the gradient for the output layer.\n",
    "\n",
    "**Hidden Layers Error:**\n",
    "\n",
    "- Hidden Layer 2: Propagates the output error backward to compute hidden2_error.\n",
    "- hidden2_delta: The error scaled by the ReLU derivative.\n",
    "- Hidden Layer 1: Similarly propagates hidden2_delta to compute hidden1_error and scales it.\n",
    "\n",
    "**Weights and Biases Update:**\n",
    "\n",
    "- Updates the weights and biases for all layers using the gradients (delta) and the learning rate.\n",
    "\n",
    "This function enables the network to learn by iteratively reducing the error through gradient descent.\n"
   ]
  },
  {
   "cell_type": "code",
   "execution_count": 20,
   "id": "8839f10f-1202-4a43-be11-ebbb1aaebc3e",
   "metadata": {
    "id": "8839f10f-1202-4a43-be11-ebbb1aaebc3e"
   },
   "outputs": [],
   "source": [
    "# Define the backpropagation function\n",
    "def backpropagation(X, y, hidden_output1, hidden_output2, output_output):\n",
    "    global weights_input_hidden1, weights_hidden1_hidden2, weights_hidden2_output\n",
    "    global bias_hidden1, bias_hidden2, bias_output\n",
    "\n",
    "    # Output layer error\n",
    "    output_error = y.T - output_output\n",
    "    output_delta = output_error\n",
    "\n",
    "    # Hidden layer 2 error\n",
    "    hidden2_error = np.dot(weights_hidden2_output.T, output_delta)\n",
    "    hidden2_delta = hidden2_error * relu_derivative(hidden_output2)\n",
    "\n",
    "    # Hidden layer 1 error\n",
    "    hidden1_error = np.dot(weights_hidden1_hidden2.T, hidden2_delta)\n",
    "    hidden1_delta = hidden1_error * relu_derivative(hidden_output1)\n",
    "\n",
    "    # Update weights and biases\n",
    "    weights_hidden2_output += learning_rate * np.dot(output_delta, hidden_output2.T)\n",
    "    bias_output += learning_rate * np.sum(output_delta, axis=1, keepdims=True)\n",
    "\n",
    "    weights_hidden1_hidden2 += learning_rate * np.dot(hidden2_delta, hidden_output1.T)\n",
    "    bias_hidden2 += learning_rate * np.sum(hidden2_delta, axis=1, keepdims=True)\n",
    "\n",
    "    weights_input_hidden1 += learning_rate * np.dot(hidden1_delta, X)\n",
    "    bias_hidden1 += learning_rate * np.sum(hidden1_delta, axis=1, keepdims=True)"
   ]
  },
  {
   "cell_type": "markdown",
   "id": "6870ae25",
   "metadata": {
    "id": "6870ae25"
   },
   "source": [
    "### Explanation\n",
    "\n",
    "This code trains the MLP using mini-batch gradient descent:\n",
    "\n",
    "- **Epochs:** Repeats the training process for 100 iterations.\n",
    "- **Mini-Batches:** Splits data into batches of size 64 for efficient updates.\n",
    "- **Training Process:** Performs forward propagation to predict outputs and compares predictions with actual labels and updates weights using backpropagation.\n",
    "- **Accuracy:** Calculates and prints training accuracy every 10 epochs.\n",
    "This process refines the model by minimizing errors over multiple iterations.\n"
   ]
  },
  {
   "cell_type": "code",
   "execution_count": 21,
   "id": "58b6cac1-dd54-4738-9aed-a75d697e34db",
   "metadata": {
    "colab": {
     "base_uri": "https://localhost:8080/"
    },
    "id": "58b6cac1-dd54-4738-9aed-a75d697e34db",
    "outputId": "88f597ae-4f07-430e-98d9-9e510ac94fb3"
   },
   "outputs": [
    {
     "name": "stdout",
     "output_type": "stream",
     "text": [
      "Epoch 10/100 - Training Accuracy: 99.15%\n",
      "Epoch 20/100 - Training Accuracy: 99.54%\n",
      "Epoch 30/100 - Training Accuracy: 99.72%\n",
      "Epoch 40/100 - Training Accuracy: 99.86%\n",
      "Epoch 50/100 - Training Accuracy: 99.82%\n",
      "Epoch 60/100 - Training Accuracy: 99.96%\n",
      "Epoch 70/100 - Training Accuracy: 100.00%\n",
      "Epoch 80/100 - Training Accuracy: 100.00%\n",
      "Epoch 90/100 - Training Accuracy: 100.00%\n",
      "Epoch 100/100 - Training Accuracy: 99.96%\n"
     ]
    }
   ],
   "source": [
    "# Training the MLP\n",
    "epochs = 100  # Increased number of training epochs\n",
    "batch_size = 64  # Use mini-batch gradient descent\n",
    "for epoch in range(epochs):\n",
    "    correct_predictions = 0\n",
    "    for i in range(0, X_train.shape[0], batch_size):\n",
    "        X_batch = X_train[i:i+batch_size]\n",
    "        y_batch = y_train_encoded[i:i+batch_size]\n",
    "        for X_sample, y_sample in zip(X_batch, y_batch):\n",
    "            X_sample = X_sample.reshape(1, -1)\n",
    "            y_sample = y_sample.reshape(1, -1)\n",
    "            hidden_output1, hidden_output2, output_output = feedforward(X_sample, dropout=True)\n",
    "            if np.argmax(output_output) == np.argmax(y_sample):\n",
    "                correct_predictions += 1\n",
    "            backpropagation(X_sample, y_sample, hidden_output1, hidden_output2, output_output)\n",
    "\n",
    "    # Calculate accuracy\n",
    "    accuracy = correct_predictions / X_train.shape[0]\n",
    "    if (epoch + 1) % 10 == 0:\n",
    "        print(f\"Epoch {epoch + 1}/{epochs} - Training Accuracy: {accuracy * 100:.2f}%\")"
   ]
  },
  {
   "cell_type": "markdown",
   "id": "37dcdb4f",
   "metadata": {
    "id": "37dcdb4f"
   },
   "source": [
    "### Explanation\n",
    "\n",
    "This code tests the trained MLP on validation data:\n",
    "\n",
    "**test_model:**\n",
    "\n",
    "- Performs forward propagation for each validation sample (dropout disabled).\n",
    "- Compares predictions with actual labels to count correct predictions.\n",
    "\n",
    "**Accuracy:** Calculates and prints validation accuracy as the percentage of correct predictions.\n",
    "This evaluates the model's performance on unseen data."
   ]
  },
  {
   "cell_type": "code",
   "execution_count": 22,
   "id": "5e63db1b-5a1b-48bf-8baa-0560ebc80787",
   "metadata": {
    "colab": {
     "base_uri": "https://localhost:8080/"
    },
    "id": "5e63db1b-5a1b-48bf-8baa-0560ebc80787",
    "outputId": "3d6c5d5b-7130-4b5f-cf99-3dd9c7623988"
   },
   "outputs": [
    {
     "name": "stdout",
     "output_type": "stream",
     "text": [
      "Validation Accuracy: 97.76%\n"
     ]
    }
   ],
   "source": [
    "# Testing the MLP on the validation dataset\n",
    "def test_model(X, y):\n",
    "    correct_predictions = 0\n",
    "    for X_sample, y_sample in zip(X, y):\n",
    "        X_sample = X_sample.reshape(1, -1)\n",
    "        y_sample = y_sample.reshape(1, -1)\n",
    "        _, _, output_output = feedforward(X_sample, dropout=False)\n",
    "        if np.argmax(output_output) == np.argmax(y_sample):\n",
    "            correct_predictions += 1\n",
    "    accuracy = correct_predictions / X.shape[0]\n",
    "    print(f\"Validation Accuracy: {accuracy * 100:.2f}%\")\n",
    "    return accuracy\n",
    "\n",
    "# Calculate validation accuracy\n",
    "validation_accuracy = test_model(X_val, y_val_encoded)"
   ]
  },
  {
   "cell_type": "markdown",
   "id": "ab474b19-ef9a-4622-ba3a-12285fe56d5f",
   "metadata": {
    "id": "37dcdb4f"
   },
   "source": [
    "### Confusion Matrix - Fold 1\n",
    "\n",
    "**Predictions and True Labels:**\n",
    "- The code collects predicted labels (y_pred_fold1) using the feedforward function and true labels (y_true_fold1) from the validation data.\n",
    "\n",
    "**Confusion Matrix:**\n",
    "- It computes the confusion matrix by comparing y_true_fold1 (actual labels) with y_pred_fold1 (predicted labels).\n",
    "\n",
    "**Visualization:**\n",
    "- The confusion matrix is displayed using ConfusionMatrixDisplay with a blue colormap (plt.cm.Blues) and labeled as \"Confusion Matrix for Fold 1\""
   ]
  },
  {
   "cell_type": "code",
   "execution_count": 24,
   "id": "5wUedBrimxG2",
   "metadata": {
    "colab": {
     "base_uri": "https://localhost:8080/",
     "height": 472
    },
    "id": "5wUedBrimxG2",
    "outputId": "678c8554-c828-4d37-d7a3-92ac954c0762"
   },
   "outputs": [
    {
     "data": {
      "image/png": "[encoded data removed]",
      "text/plain": [
       "<Figure size 640x480 with 2 Axes>"
      ]
     },
     "metadata": {},
     "output_type": "display_data"
    }
   ],
   "source": [
    "from sklearn.metrics import confusion_matrix, ConfusionMatrixDisplay\n",
    "import matplotlib.pyplot as plt\n",
    "\n",
    "# Generate predictions for Fold 1\n",
    "y_pred_fold1 = []\n",
    "y_true_fold1 = []\n",
    "\n",
    "# Collect predictions and true labels for Fold 1\n",
    "for X_sample, y_sample in zip(X_val, y_val):\n",
    "    X_sample = X_sample.reshape(1, -1)  # Reshape input sample\n",
    "    _, _, output_output = feedforward(X_sample, dropout=False)  # Get predictions\n",
    "    y_pred_fold1.append(np.argmax(output_output))  # Predicted class (0-9)\n",
    "    y_true_fold1.append(y_sample)  # True class (integer labels, 0-9)\n",
    "\n",
    "# Generate the confusion matrix for Fold 1\n",
    "cf_matrix_fold1 = confusion_matrix(y_true_fold1, y_pred_fold1)\n",
    "\n",
    "# Display the confusion matrix for Fold 1\n",
    "disp_fold1 = ConfusionMatrixDisplay(confusion_matrix=cf_matrix_fold1, display_labels=np.arange(10))\n",
    "disp_fold1.plot(cmap=plt.cm.Blues)\n",
    "plt.title(\"Confusion Matrix for Fold 1\")\n",
    "plt.show()"
   ]
  },
  {
   "cell_type": "markdown",
   "id": "c283d19f-2dfa-4d67-bc84-daebc8682d5a",
   "metadata": {
    "id": "37dcdb4f"
   },
   "source": [
    "### Two-Fold Cross-Validation Explanation (Fold 2 Code)\n",
    "\n",
    "**Dataset Swapping:**\n",
    "\n",
    "This process ensures each dataset is evaluated as both training and validation data, providing a robust assessment of the model's generalization ability. Swapping datasets for Fold 2 reduces the likelihood of dataset-specific bias, and the averaged accuracy serves as the final performance metric."
   ]
  },
  {
   "cell_type": "code",
   "execution_count": 26,
   "id": "WDxjiQOXnU7l",
   "metadata": {
    "colab": {
     "base_uri": "https://localhost:8080/"
    },
    "id": "WDxjiQOXnU7l",
    "outputId": "c69e4903-424e-43a2-cb0d-59d8cc7583b7"
   },
   "outputs": [
    {
     "name": "stdout",
     "output_type": "stream",
     "text": [
      "Epoch 10/100 - Training Accuracy for Fold 2: 99.32%\n",
      "Epoch 20/100 - Training Accuracy for Fold 2: 99.54%\n",
      "Epoch 30/100 - Training Accuracy for Fold 2: 100.00%\n",
      "Epoch 40/100 - Training Accuracy for Fold 2: 99.86%\n",
      "Epoch 50/100 - Training Accuracy for Fold 2: 99.86%\n",
      "Epoch 60/100 - Training Accuracy for Fold 2: 100.00%\n",
      "Epoch 70/100 - Training Accuracy for Fold 2: 99.96%\n",
      "Epoch 80/100 - Training Accuracy for Fold 2: 99.89%\n",
      "Epoch 90/100 - Training Accuracy for Fold 2: 99.96%\n",
      "Epoch 100/100 - Training Accuracy for Fold 2: 99.96%\n",
      "Validation Accuracy for Fold 2: 98.11%\n",
      "Final 2-Fold Cross-Validation Accuracy: 97.94%\n"
     ]
    }
   ],
   "source": [
    "import pandas as pd\n",
    "import numpy as np\n",
    "\n",
    "# Load the datasets\n",
    "# Swapped the datasets for Fold 2\n",
    "dataset1_path = 'cw2DataSet2.csv'\n",
    "dataset2_path = 'cw2DataSet1.csv'\n",
    "\n",
    "train_data_fold2 = pd.read_csv(dataset1_path, header=None)\n",
    "validation_data_fold2 = pd.read_csv(dataset2_path, header=None)\n",
    "\n",
    "# Normalize the data\n",
    "def normalize_data(X):\n",
    "    epsilon = 1e-8  # Small value to avoid division by zero\n",
    "    return (X - np.min(X, axis=0)) / (np.max(X, axis=0) - np.min(X, axis=0) + epsilon)\n",
    "\n",
    "\n",
    "# Prepare the data for Fold 2\n",
    "X_train_fold2 = normalize_data(train_data_fold2.iloc[:, :-1].values)  # Features\n",
    "y_train_fold2 = train_data_fold2.iloc[:, -1].values  # Targets\n",
    "\n",
    "X_val_fold2 = normalize_data(validation_data_fold2.iloc[:, :-1].values)\n",
    "y_val_fold2 = validation_data_fold2.iloc[:, -1].values\n",
    "\n",
    "# One-hot encode the targets for Fold 2\n",
    "def one_hot_encode(y, num_classes=10):\n",
    "    encoded = np.zeros((y.size, num_classes))\n",
    "    encoded[np.arange(y.size), y] = 1\n",
    "    return encoded\n",
    "\n",
    "y_train_encoded_fold2 = one_hot_encode(y_train_fold2)\n",
    "y_val_encoded_fold2 = one_hot_encode(y_val_fold2)\n",
    "\n",
    "# Define activation functions\n",
    "def relu(x):\n",
    "    return np.maximum(0, x)\n",
    "\n",
    "def relu_derivative(x):\n",
    "    return np.where(x > 0, 1, 0)\n",
    "\n",
    "def softmax(x):\n",
    "    exp_x = np.exp(x - np.max(x, axis=0, keepdims=True))  # For numerical stability\n",
    "    return exp_x / np.sum(exp_x, axis=0, keepdims=True)\n",
    "\n",
    "# Initialize the MLP parameters for Fold 2\n",
    "input_size = 64\n",
    "hidden_size1 = 400\n",
    "hidden_size2 = 300\n",
    "output_size = 10\n",
    "learning_rate = 0.011\n",
    "dropout_rate = 0.18\n",
    "\n",
    "# Initialize weights\n",
    "np.random.seed(42)\n",
    "weights_input_hidden1 = np.random.randn(hidden_size1, input_size) * np.sqrt(2 / input_size)\n",
    "weights_hidden1_hidden2 = np.random.randn(hidden_size2, hidden_size1) * np.sqrt(2 / hidden_size1)\n",
    "weights_hidden2_output = np.random.randn(output_size, hidden_size2) * np.sqrt(2 / hidden_size2)\n",
    "\n",
    "# Initialize biases\n",
    "bias_hidden1 = np.zeros((hidden_size1, 1))\n",
    "bias_hidden2 = np.zeros((hidden_size2, 1))\n",
    "bias_output = np.zeros((output_size, 1))\n",
    "\n",
    "\n",
    "# Define the feedforward function with dropout\n",
    "def feedforward(X, dropout=False):\n",
    "    global weights_input_hidden1, weights_hidden1_hidden2, weights_hidden2_output\n",
    "    global bias_hidden1, bias_hidden2, bias_output\n",
    "\n",
    "    # Hidden layer 1\n",
    "    hidden_layer1_input = np.dot(weights_input_hidden1, X.T) + bias_hidden1\n",
    "    hidden_layer1_output = relu(hidden_layer1_input)\n",
    "    if dropout:\n",
    "        mask1 = np.random.rand(*hidden_layer1_output.shape) > dropout_rate\n",
    "        hidden_layer1_output *= mask1\n",
    "        hidden_layer1_output /= (1 - dropout_rate)\n",
    "\n",
    "    # Hidden layer 2\n",
    "    hidden_layer2_input = np.dot(weights_hidden1_hidden2, hidden_layer1_output) + bias_hidden2\n",
    "    hidden_layer2_output = relu(hidden_layer2_input)\n",
    "    if dropout:\n",
    "        mask2 = np.random.rand(*hidden_layer2_output.shape) > dropout_rate\n",
    "        hidden_layer2_output *= mask2\n",
    "        hidden_layer2_output /= (1 - dropout_rate)\n",
    "\n",
    "    # Output layer\n",
    "    output_layer_input = np.dot(weights_hidden2_output, hidden_layer2_output) + bias_output\n",
    "    output_layer_output = softmax(output_layer_input)\n",
    "\n",
    "    return hidden_layer1_output, hidden_layer2_output, output_layer_output\n",
    "\n",
    "\n",
    "# Define the backpropagation function\n",
    "def backpropagation(X, y, hidden_output1, hidden_output2, output_output):\n",
    "    global weights_input_hidden1, weights_hidden1_hidden2, weights_hidden2_output\n",
    "    global bias_hidden1, bias_hidden2, bias_output\n",
    "\n",
    "    # Output layer error\n",
    "    output_error = y.T - output_output\n",
    "    output_delta = output_error\n",
    "\n",
    "    # Hidden layer 2 error\n",
    "    hidden2_error = np.dot(weights_hidden2_output.T, output_delta)\n",
    "    hidden2_delta = hidden2_error * relu_derivative(hidden_output2)\n",
    "\n",
    "    # Hidden layer 1 error\n",
    "    hidden1_error = np.dot(weights_hidden1_hidden2.T, hidden2_delta)\n",
    "    hidden1_delta = hidden1_error * relu_derivative(hidden_output1)\n",
    "\n",
    "    # Update weights and biases\n",
    "    weights_hidden2_output += learning_rate * np.dot(output_delta, hidden_output2.T)\n",
    "    bias_output += learning_rate * np.sum(output_delta, axis=1, keepdims=True)\n",
    "\n",
    "    weights_hidden1_hidden2 += learning_rate * np.dot(hidden2_delta, hidden_output1.T)\n",
    "    bias_hidden2 += learning_rate * np.sum(hidden2_delta, axis=1, keepdims=True)\n",
    "\n",
    "    weights_input_hidden1 += learning_rate * np.dot(hidden1_delta, X)\n",
    "    bias_hidden1 += learning_rate * np.sum(hidden1_delta, axis=1, keepdims=True)\n",
    "\n",
    "\n",
    "# Training the MLP for Fold 2\n",
    "epochs = 100\n",
    "batch_size = 64\n",
    "for epoch in range(epochs):\n",
    "    correct_predictions = 0\n",
    "    for i in range(0, X_train_fold2.shape[0], batch_size):\n",
    "        X_batch = X_train_fold2[i:i+batch_size]\n",
    "        y_batch = y_train_encoded_fold2[i:i+batch_size]\n",
    "        for X_sample, y_sample in zip(X_batch, y_batch):\n",
    "            X_sample = X_sample.reshape(1, -1)\n",
    "            y_sample = y_sample.reshape(1, -1)\n",
    "            hidden_output1, hidden_output2, output_output = feedforward(X_sample, dropout=True)\n",
    "            if np.argmax(output_output) == np.argmax(y_sample):\n",
    "                correct_predictions += 1\n",
    "            backpropagation(X_sample, y_sample, hidden_output1, hidden_output2, output_output)\n",
    "\n",
    "    # Calculate accuracy\n",
    "    accuracy = correct_predictions / X_train_fold2.shape[0]\n",
    "    if (epoch + 1) % 10 == 0:\n",
    "        print(f\"Epoch {epoch + 1}/{epochs} - Training Accuracy for Fold 2: {accuracy * 100:.2f}%\")\n",
    "\n",
    "\n",
    "# Testing the MLP on the Fold 2 validation dataset\n",
    "def test_model(X, y):\n",
    "    correct_predictions = 0\n",
    "    for X_sample, y_sample in zip(X, y):\n",
    "        X_sample = X_sample.reshape(1, -1)\n",
    "        y_sample = y_sample.reshape(1, -1)\n",
    "        _, _, output_output = feedforward(X_sample, dropout=False)\n",
    "        if np.argmax(output_output) == np.argmax(y_sample):\n",
    "            correct_predictions += 1\n",
    "    accuracy = correct_predictions / X.shape[0]\n",
    "    print(f\"Validation Accuracy for Fold 2: {accuracy * 100:.2f}%\")\n",
    "    return accuracy\n",
    "\n",
    "# Calculate validation accuracy for Fold 2\n",
    "validation_accuracy_fold2 = test_model(X_val_fold2, y_val_encoded_fold2)\n",
    "\n",
    "# Average accuracy across both folds\n",
    "average_accuracy = (validation_accuracy + validation_accuracy_fold2) / 2\n",
    "print(f\"Final 2-Fold Cross-Validation Accuracy: {average_accuracy * 100:.2f}%\")\n"
   ]
  },
  {
   "cell_type": "markdown",
   "id": "6541d625-9332-4841-b052-fc34b1d1f09d",
   "metadata": {
    "id": "37dcdb4f"
   },
   "source": [
    "### Confusion Matrix - Fold 2\n",
    "\n",
    "**Predictions and Labels:** Collects predicted labels (y_pred_fold2) using the feedforward function and true labels (y_true_fold2) from the Fold 2 validation set.\n",
    "\n",
    "**Confusion Matrix:** Compares true labels (y_true_fold2) with predicted labels (y_pred_fold2) to generate the confusion matrix.\n",
    "\n",
    "**Visualization:** Displays the confusion matrix using ConfusionMatrixDisplay with an orange colormap (plt.cm.Oranges) and labels it as \"Confusion Matrix for Fold 2\"."
   ]
  },
  {
   "cell_type": "code",
   "execution_count": 28,
   "id": "1zyK2J7cnazB",
   "metadata": {
    "colab": {
     "base_uri": "https://localhost:8080/",
     "height": 472
    },
    "id": "1zyK2J7cnazB",
    "outputId": "53f613f4-7a6d-400e-889c-0d8461ce6ca4"
   },
   "outputs": [
    {
     "data": {
      "image/png": "[encoded data removed]",
      "text/plain": [
       "<Figure size 640x480 with 2 Axes>"
      ]
     },
     "metadata": {},
     "output_type": "display_data"
    }
   ],
   "source": [
    "from sklearn.metrics import confusion_matrix, ConfusionMatrixDisplay\n",
    "import matplotlib.pyplot as plt\n",
    "\n",
    "# Generate predictions for Fold 2\n",
    "y_pred_fold2 = []\n",
    "y_true_fold2 = []\n",
    "\n",
    "# Collect predictions and true labels for Fold 2\n",
    "for X_sample, y_sample in zip(X_val_fold2, y_val_fold2):\n",
    "    X_sample = X_sample.reshape(1, -1)  # Reshape input sample\n",
    "    _, _, output_output = feedforward(X_sample, dropout=False)  # Get predictions\n",
    "    y_pred_fold2.append(np.argmax(output_output))  # Predicted class (0-9)\n",
    "    y_true_fold2.append(y_sample)  # True class (integer labels, 0-9)\n",
    "\n",
    "# Generate the confusion matrix for Fold 2\n",
    "cf_matrix_fold2 = confusion_matrix(y_true_fold2, y_pred_fold2)\n",
    "\n",
    "# Display the confusion matrix for Fold 2\n",
    "disp_fold2 = ConfusionMatrixDisplay(confusion_matrix=cf_matrix_fold2, display_labels=np.arange(10))\n",
    "disp_fold2.plot(cmap=plt.cm.Oranges)\n",
    "plt.title(\"Confusion Matrix for Fold 2\")\n",
    "plt.show()\n"
   ]
  },
  {
   "cell_type": "code",
   "execution_count": null,
   "id": "HAoSs91tneSt",
   "metadata": {
    "id": "HAoSs91tneSt"
   },
   "outputs": [],
   "source": [
    "# end"
   ]
  }
 ],
 "metadata": {
  "colab": {
   "provenance": []
  },
  "kernelspec": {
   "display_name": "Python 3 (ipykernel)",
   "language": "python",
   "name": "python3"
  },
  "language_info": {
   "codemirror_mode": {
    "name": "ipython",
    "version": 3
   },
   "file_extension": ".py",
   "mimetype": "text/x-python",
   "name": "python",
   "nbconvert_exporter": "python",
   "pygments_lexer": "ipython3",
   "version": "3.11.9"
  }
 },
 "nbformat": 4,
 "nbformat_minor": 5
}
